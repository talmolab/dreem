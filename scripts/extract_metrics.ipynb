{
 "cells": [
  {
   "cell_type": "code",
   "execution_count": 1,
   "metadata": {},
   "outputs": [],
   "source": [
    "import h5py\n",
    "import pandas as pd"
   ]
  },
  {
   "cell_type": "code",
   "execution_count": 5,
   "metadata": {},
   "outputs": [],
   "source": [
    "hdf5_path = \"/root/vast/mustafa/dreem-experiments/notebooks/dreem-demo/eval/190719_090330_wt_18159206_rig1.2@15000-17560.dreem_metrics.h5\""
   ]
  },
  {
   "cell_type": "code",
   "execution_count": null,
   "metadata": {},
   "outputs": [],
   "source": [
    "def extract_motmetrics(hdf5_path):\n",
    "    \"\"\" Extracts the MOT metrics from the hdf5 file. \n",
    "    Returns a dataframe with the metrics. \n",
    "    \"\"\"\n",
    "    with h5py.File(hdf5_path, \"r\") as results_file:\n",
    "        for vid_name in results_file.keys():\n",
    "            vid_group = results_file[vid_name]\n",
    "            # Load MOT summary\n",
    "            if \"mot_summary\" in vid_group:\n",
    "                mot_summary_keys = list(vid_group[\"mot_summary\"].attrs)\n",
    "                mot_summary_values = [vid_group[\"mot_summary\"].attrs[key] for key in mot_summary_keys]\n",
    "                df_motmetrics = pd.DataFrame(list(zip(mot_summary_keys, mot_summary_values)), columns=[\"metric\", \"value\"])\n",
    "    \n",
    "    return df_motmetrics\n",
    "\n",
    "def extract_gta(hdf5_path):\n",
    "    \"\"\" Extracts the global tracking accuracy from the hdf5 file. \n",
    "    Returns a dataframe with the metrics. \n",
    "    \"\"\"\n",
    "    with h5py.File(hdf5_path, \"r\") as results_file:\n",
    "        for vid_name in results_file.keys():\n",
    "            vid_group = results_file[vid_name]\n",
    "            # Load global tracking accuracy if available\n",
    "            if \"global_tracking_accuracy\" in vid_group:\n",
    "                gta_keys = list(vid_group[\"global_tracking_accuracy\"].attrs)\n",
    "                gta_values = [vid_group[\"global_tracking_accuracy\"].attrs[key] for key in gta_keys]\n",
    "                df_gta = pd.DataFrame(list(zip(gta_keys, gta_values)), columns=[\"metric\", \"value\"])\n",
    "\n",
    "    return df_gta\n",
    "\n",
    "def extract_switch_frame_crops(hdf5_path):\n",
    "    \"\"\" Extracts the crops of the frames with switches. \n",
    "    Returns a dictionary with the frame id as the key and a list of crops of each instance in the frame as the value. \n",
    "    \"\"\"\n",
    "    with h5py.File(hdf5_path, \"r\") as results_file:\n",
    "        # Iterate through all video groups\n",
    "        for vid_name in results_file.keys():\n",
    "            vid_group = results_file[vid_name]\n",
    "            frame_crop_dict = {}\n",
    "            for key in vid_group.keys():\n",
    "                if key.startswith(\"frame_\"):\n",
    "                    frame = vid_group[key]\n",
    "                    frame_id = frame.attrs[\"frame_id\"]\n",
    "                    frame_crop_dict[frame_id] = []\n",
    "                    for key in frame.keys():\n",
    "                        if key.startswith(\"instance_\"):\n",
    "                            instance = frame[key]\n",
    "                            if \"crop\" in instance.keys():\n",
    "                                frame_crop_dict[frame_id].append(instance[\"crop\"][:].squeeze().transpose(1,2,0))\n",
    "\n",
    "    return frame_crop_dict"
   ]
  },
  {
   "cell_type": "code",
   "execution_count": null,
   "metadata": {},
   "outputs": [],
   "source": [
    "motmetrics = extract_motmetrics(hdf5_path)\n",
    "gta = extract_gta(hdf5_path)\n",
    "switch_frame_crops = extract_switch_frame_crops(hdf5_path)"
   ]
  }
 ],
 "metadata": {
  "kernelspec": {
   "display_name": "dreem",
   "language": "python",
   "name": "python3"
  },
  "language_info": {
   "codemirror_mode": {
    "name": "ipython",
    "version": 3
   },
   "file_extension": ".py",
   "mimetype": "text/x-python",
   "name": "python",
   "nbconvert_exporter": "python",
   "pygments_lexer": "ipython3",
   "version": "3.11.11"
  }
 },
 "nbformat": 4,
 "nbformat_minor": 2
}
