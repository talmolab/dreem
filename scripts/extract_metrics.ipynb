{
 "cells": [
  {
   "cell_type": "code",
   "execution_count": 1,
   "metadata": {},
   "outputs": [],
   "source": [
    "import h5py\n",
    "import pandas as pd"
   ]
  },
  {
   "cell_type": "code",
   "execution_count": 3,
   "metadata": {},
   "outputs": [],
   "source": [
    "hdf5_path = \"/root/vast/mustafa/dreem-experiments/run/dev/eval-pipeline/three_flies_2.dreem_metrics.h5\""
   ]
  },
  {
   "cell_type": "code",
   "execution_count": null,
   "metadata": {},
   "outputs": [],
   "source": [
    "dict_vid_motmetrics = {}\n",
    "dict_vid_gta = {}\n",
    "dict_vid_switch_frame_crops = {}"
   ]
  },
  {
   "cell_type": "code",
   "execution_count": null,
   "metadata": {},
   "outputs": [
    {
     "name": "stdout",
     "output_type": "stream",
     "text": [
      "Extracting metrics and crops for video:  three_flies\n"
     ]
    }
   ],
   "source": [
    "with h5py.File(hdf5_path, \"r\") as results_file:\n",
    "    # Iterate through all video groups\n",
    "    for vid_name in results_file.keys():\n",
    "        print(\"Extracting metrics and crops for video: \", vid_name)\n",
    "        vid_group = results_file[vid_name]\n",
    "        # Load MOT summary\n",
    "        if \"mot_summary\" in vid_group:\n",
    "            mot_summary_keys = list(vid_group[\"mot_summary\"].attrs)\n",
    "            mot_summary_values = [vid_group[\"mot_summary\"].attrs[key] for key in mot_summary_keys]\n",
    "            df_motmetrics = pd.DataFrame(list(zip(mot_summary_keys, mot_summary_values)), columns=[\"metric\", \"value\"])\n",
    "            dict_vid_motmetrics[vid_name] = df_motmetrics\n",
    "        # Load global tracking accuracy if available\n",
    "        if \"global_tracking_accuracy\" in vid_group:\n",
    "            gta_keys = list(vid_group[\"global_tracking_accuracy\"].attrs)\n",
    "            gta_values = [vid_group[\"global_tracking_accuracy\"].attrs[key] for key in gta_keys]\n",
    "            df_gta = pd.DataFrame(list(zip(gta_keys, gta_values)), columns=[\"metric\", \"value\"])\n",
    "            dict_vid_gta[vid_name] = df_gta\n",
    "        # Find all frames with switches and save the crops\n",
    "        frame_crop_dict = {}\n",
    "        for key in vid_group.keys():\n",
    "            if key.startswith(\"frame_\"):\n",
    "                frame = vid_group[key]\n",
    "                frame_id = frame.attrs[\"frame_id\"]\n",
    "                for key in frame.keys():\n",
    "                    if key.startswith(\"instance_\"):\n",
    "                        instance = frame[key]\n",
    "                        if \"crop\" in instance.keys():\n",
    "                            frame_crop_dict[frame_id] = instance[\"crop\"][:].squeeze().transpose(1,2,0)\n",
    "        dict_vid_switch_frame_crops[vid_name] = frame_crop_dict"
   ]
  }
 ],
 "metadata": {
  "kernelspec": {
   "display_name": "dreem",
   "language": "python",
   "name": "python3"
  },
  "language_info": {
   "codemirror_mode": {
    "name": "ipython",
    "version": 3
   },
   "file_extension": ".py",
   "mimetype": "text/x-python",
   "name": "python",
   "nbconvert_exporter": "python",
   "pygments_lexer": "ipython3",
   "version": "3.11.11"
  }
 },
 "nbformat": 4,
 "nbformat_minor": 2
}
