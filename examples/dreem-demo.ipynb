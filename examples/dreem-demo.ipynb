{
 "cells": [
  {
   "cell_type": "markdown",
   "metadata": {},
   "source": [
    "# End-to-end demo"
   ]
  },
  {
   "cell_type": "markdown",
   "metadata": {},
   "source": [
    "This notebook will walk you through the DREEM pipeline end to end, from obtaining data to training a model, evaluating on a held-out dataset, and visualizing the results. Here, we'll use the API, but we also provide a CLI interface for convenience.\n",
    "\n",
    "To run this demo, we have provided sample data and configurations. The data used in this demo is small enough to be run on a single machine, though a GPU is recommended. "
   ]
  },
  {
   "cell_type": "markdown",
   "metadata": {},
   "source": [
    "#### Directory structure after downloading data:\n",
    "```\n",
    "./data\n",
    "    /test\n",
    "        190719_090330_wt_18159206_rig1.2@15000-17560.mp4\n",
    "        GT_190719_090330_wt_18159206_rig1.2@15000-17560.slp\n",
    "    /train\n",
    "        190612_110405_wt_18159111_rig2.2@4427.mp4\n",
    "        GT_190612_110405_wt_18159111_rig2.2@4427.slp\n",
    "    /val\n",
    "        two_flies.mp4\n",
    "        GT_two_flies.slp\n",
    "    /inference\n",
    "        190719_090330_wt_18159206_rig1.2@15000-17560.mp4\n",
    "        190719_090330_wt_18159206_rig1.2@15000-17560.slp\n",
    "    /configs\n",
    "        inference.yaml\n",
    "        base.yaml\n",
    "        eval.yaml\n",
    " ```"
   ]
  },
  {
   "cell_type": "code",
   "execution_count": 1,
   "metadata": {},
   "outputs": [],
   "source": [
    "import torch\n",
    "import pandas as pd\n",
    "import numpy as np\n",
    "import os\n",
    "from pathlib import Path\n",
    "from datetime import datetime\n",
    "import pytorch_lightning as pl\n",
    "from omegaconf import OmegaConf\n",
    "from dreem.io import Config\n",
    "from dreem.datasets import TrackingDataset\n",
    "from dreem.models import GTRRunner\n",
    "from dreem.inference import Tracker\n",
    "import sleap_io as sio\n",
    "import matplotlib.pyplot as plt\n",
    "import h5py"
   ]
  },
  {
   "cell_type": "markdown",
   "metadata": {},
   "source": [
    "Check if a GPU is available. For Apple silicon users, you can run on MPS, but ensure your version of PyTorch is compatible with MPS, and that you have installed the correct version of DREEM. You can also run without a GPU. The demo has been tested on an M3 Macbook Air running only on a CPU.\n"
   ]
  },
  {
   "cell_type": "code",
   "execution_count": null,
   "metadata": {},
   "outputs": [],
   "source": [
    "cuda_available = torch.cuda.is_available()\n",
    "print(f\"CUDA available: {cuda_available}\")\n",
    "if cuda_available:\n",
    "    accelerator = \"cuda\"\n",
    "elif torch.backends.mps.is_available():\n",
    "    accelerator = \"mps\"\n",
    "    devices = 1\n",
    "else:\n",
    "    accelerator = \"cpu\"\n",
    "print(\"Using device: \", accelerator)\n",
    "\n",
    "torch.set_float32_matmul_precision(\"medium\")"
   ]
  },
  {
   "cell_type": "markdown",
   "metadata": {},
   "source": [
    "## Download data and configs"
   ]
  },
  {
   "cell_type": "code",
   "execution_count": null,
   "metadata": {},
   "outputs": [],
   "source": [
    "!huggingface-cli download talmolab/sample-flies --repo-type dataset --local-dir ./data"
   ]
  },
  {
   "cell_type": "markdown",
   "metadata": {},
   "source": [
    "## Training"
   ]
  },
  {
   "cell_type": "markdown",
   "metadata": {},
   "source": [
    "#### Setup configs\n",
    "The configs provided are good defaults. You can change them as you see fit."
   ]
  },
  {
   "cell_type": "code",
   "execution_count": null,
   "metadata": {},
   "outputs": [],
   "source": [
    "config_path = \"./data/configs/base.yaml\"\n",
    "# use OmegaConf to load the config\n",
    "cfg = OmegaConf.load(config_path)\n",
    "train_cfg = Config(cfg)"
   ]
  },
  {
   "cell_type": "markdown",
   "metadata": {},
   "source": [
    "#### Create a model\n",
    "The model is a Lightning wrapper around our model. Lightning simplifies training, validation, logging, and checkpointing."
   ]
  },
  {
   "cell_type": "code",
   "execution_count": null,
   "metadata": {},
   "outputs": [],
   "source": [
    "model = train_cfg.get_gtr_runner()"
   ]
  },
  {
   "cell_type": "markdown",
   "metadata": {},
   "source": [
    "#### Prepare torch datasets and dataloader\n",
    "Note: We use a batch size of 1 - we handle the batching ourselves since we are dealing with video data and associated labels in .slp format. The default clip length is set to 32 frames."
   ]
  },
  {
   "cell_type": "code",
   "execution_count": 6,
   "metadata": {},
   "outputs": [],
   "source": [
    "train_dataset = train_cfg.get_dataset(mode=\"train\")\n",
    "train_dataloader = train_cfg.get_dataloader(train_dataset, mode=\"train\")\n",
    "\n",
    "val_dataset = train_cfg.get_dataset(mode=\"val\")\n",
    "val_dataloader = train_cfg.get_dataloader(val_dataset, mode=\"val\")\n",
    "\n",
    "# wrap the dataloaders\n",
    "dataset = TrackingDataset(train_dl=train_dataloader, val_dl=val_dataloader)"
   ]
  },
  {
   "cell_type": "markdown",
   "metadata": {},
   "source": [
    "#### Visualize the input data\n",
    "The input data to the model is a set of crops taken around a particular keypoint on the instance. For animals, this can be any keypoint, and for microscopy, this is often the centroid. Augmentations are also applied. Since we shuffle the data, the frame ids you get may not be the first frames of the video."
   ]
  },
  {
   "cell_type": "code",
   "execution_count": 7,
   "metadata": {},
   "outputs": [],
   "source": [
    "# load a batch of data in\n",
    "viewer = iter(train_dataloader)\n",
    "batch = next(viewer)\n",
    "# save the crops for all frames in the batch\n",
    "crops = {}\n",
    "for frame in batch[0]:\n",
    "    crops[frame.frame_id.item()] = []\n",
    "    for instance in frame.instances:\n",
    "        crops[frame.frame_id.item()].append(instance.crop.squeeze().permute(1,2,0).numpy())"
   ]
  },
  {
   "cell_type": "markdown",
   "metadata": {},
   "source": [
    "Plot the crops for all frames in the batch"
   ]
  },
  {
   "cell_type": "code",
   "execution_count": null,
   "metadata": {},
   "outputs": [],
   "source": [
    "total_crops = sum(len(crops) for crops in crops.items())\n",
    "\n",
    "# Determine a grid size\n",
    "n_cols = int(np.ceil(np.sqrt(total_crops)))\n",
    "n_rows = int(np.ceil(total_crops / n_cols))\n",
    "\n",
    "# Create figure and axes\n",
    "fig, axes = plt.subplots(n_rows, n_cols, figsize=(25,25))\n",
    "fig.suptitle(f\"Video: {frame.video}, Frames: {min(crops.keys())} to {max(crops.keys())}\", fontsize=16)\n",
    "\n",
    "# Ensure axes is always a 2D array\n",
    "if n_rows == 1 and n_cols == 1: axes = np.array([[axes]])\n",
    "elif n_rows == 1: axes = axes.reshape(1, -1)\n",
    "elif n_cols == 1: axes = axes.reshape(-1, 1)\n",
    "\n",
    "# Flatten for easier indexing\n",
    "axes_flat = axes.flatten()\n",
    "\n",
    "# Plot each crop\n",
    "ax_idx = 0\n",
    "for frame_id, vid_crops in sorted(crops.items()):\n",
    "    for i, crop in enumerate(vid_crops):\n",
    "        if ax_idx < len(axes_flat):\n",
    "            ax = axes_flat[ax_idx]\n",
    "            \n",
    "            # Handle both RGB and grayscale images\n",
    "            if crop.ndim == 3:\n",
    "                # Normalize if needed\n",
    "                if crop.max() > 1.0:\n",
    "                    crop = crop / 255.0\n",
    "                ax.imshow(crop)\n",
    "            else:\n",
    "                ax.imshow(crop, cmap='gray')\n",
    "            \n",
    "            ax.set_title(f\"Frame {frame_id}, Inst {i}\")\n",
    "            ax.axis('off')\n",
    "            ax_idx += 1\n",
    "\n",
    "# Hide unused subplots\n",
    "for i in range(ax_idx, len(axes_flat)):\n",
    "    axes_flat[i].axis('off')\n",
    "\n",
    "# Adjust layout to minimize whitespace\n",
    "plt.tight_layout()\n",
    "plt.subplots_adjust(top=0.95) "
   ]
  },
  {
   "cell_type": "markdown",
   "metadata": {},
   "source": [
    "#### Train the model\n",
    "First setup various training features such as loss curve plotting, early stopping and more, through Lightning's callbacks, then setup the Trainer and train the model."
   ]
  },
  {
   "cell_type": "code",
   "execution_count": 9,
   "metadata": {},
   "outputs": [],
   "source": [
    "# to plot loss curves \n",
    "class NotebookPlotCallback(pl.Callback):\n",
    "    def __init__(self):\n",
    "        super().__init__()\n",
    "        self.train_losses = []\n",
    "        self.val_losses = []\n",
    "        self.epochs = []\n",
    "        \n",
    "    def on_train_epoch_end(self, trainer, pl_module):\n",
    "        train_loss = trainer.callback_metrics.get('train_loss')\n",
    "        self.train_losses.append(train_loss.item())\n",
    "        self.epochs.append(trainer.current_epoch)\n",
    "    \n",
    "    def on_validation_epoch_end(self, trainer, pl_module):\n",
    "        val_loss = trainer.callback_metrics.get('val_loss')\n",
    "        self.val_losses.append(val_loss.item())\n",
    "\n",
    "notebook_plot_callback = NotebookPlotCallback()"
   ]
  },
  {
   "cell_type": "code",
   "execution_count": 10,
   "metadata": {},
   "outputs": [],
   "source": [
    "callbacks = []\n",
    "_ = callbacks.extend(train_cfg.get_checkpointing())\n",
    "_ = callbacks.append(pl.callbacks.LearningRateMonitor())\n",
    "early_stopping = train_cfg.get_early_stopping()\n",
    "if early_stopping is not None:\n",
    "    callbacks.append(early_stopping)\n",
    "callbacks.append(notebook_plot_callback)"
   ]
  },
  {
   "cell_type": "markdown",
   "metadata": {},
   "source": [
    "The default maximum epochs is set to 4 in the provided config. You can change this in the trainer section of the config."
   ]
  },
  {
   "cell_type": "code",
   "execution_count": null,
   "metadata": {},
   "outputs": [],
   "source": [
    "# setup Lightning Trainer\n",
    "trainer = train_cfg.get_trainer(\n",
    "    callbacks,\n",
    "    accelerator=accelerator,\n",
    "    devices=1\n",
    ")\n",
    "# train the model\n",
    "trainer.fit(model, dataset)"
   ]
  },
  {
   "cell_type": "markdown",
   "metadata": {},
   "source": [
    "#### Visualize the train and validation loss curves"
   ]
  },
  {
   "cell_type": "code",
   "execution_count": null,
   "metadata": {},
   "outputs": [],
   "source": [
    "plt.figure(figsize=(6,4))\n",
    "plt.plot(notebook_plot_callback.epochs, notebook_plot_callback.train_losses, label='Train Loss', marker='o')\n",
    "plt.plot(notebook_plot_callback.epochs, notebook_plot_callback.val_losses[1:], label='Validation Loss', marker='x')\n",
    "plt.xlabel('Epoch')\n",
    "plt.ylabel('Loss')\n",
    "plt.title('Training and Validation Loss')\n",
    "plt.legend()\n",
    "plt.grid(True, linestyle='--', alpha=0.7)\n",
    "plt.tight_layout()\n",
    "plt.show()"
   ]
  },
  {
   "cell_type": "markdown",
   "metadata": {},
   "source": [
    "## Inference\n",
    "### Here we run inference on a video with **no** ground truth labels"
   ]
  },
  {
   "cell_type": "code",
   "execution_count": 15,
   "metadata": {},
   "outputs": [],
   "source": [
    "# get the model from the directory it saves to \n",
    "# (see logging.name in the config)\n",
    "ckpt_dir = \"./models/example_train\"\n",
    "ckpts = os.listdir(ckpt_dir)\n",
    "for ckpt in ckpts:\n",
    "    if \"final\" in ckpt: # assumes the final checkpoint is the best one\n",
    "        best_checkpoint_path = os.path.join(ckpt_dir, ckpt)\n",
    "        break\n",
    "model = GTRRunner.load_from_checkpoint(best_checkpoint_path)"
   ]
  },
  {
   "cell_type": "markdown",
   "metadata": {},
   "source": [
    "### Setup inference configs"
   ]
  },
  {
   "cell_type": "code",
   "execution_count": null,
   "metadata": {},
   "outputs": [],
   "source": [
    "pred_cfg_path = \"./data/configs/inference.yaml\"\n",
    "# use OmegaConf to load the config\n",
    "pred_cfg = OmegaConf.load(pred_cfg_path)\n",
    "pred_cfg = Config(pred_cfg)"
   ]
  },
  {
   "cell_type": "markdown",
   "metadata": {},
   "source": [
    "Get the tracker settings from the config and initialize the tracker"
   ]
  },
  {
   "cell_type": "code",
   "execution_count": null,
   "metadata": {},
   "outputs": [],
   "source": [
    "tracker_cfg = pred_cfg.get_tracker_cfg()\n",
    "model.tracker_cfg = tracker_cfg\n",
    "model.tracker = Tracker(**model.tracker_cfg)\n",
    "trainer = pred_cfg.get_trainer()\n",
    "# inference results will be saved here\n",
    "outdir = \"./results\"\n",
    "os.makedirs(outdir, exist_ok=True)"
   ]
  },
  {
   "cell_type": "markdown",
   "metadata": {},
   "source": [
    "### Prepare data and run inference"
   ]
  },
  {
   "cell_type": "code",
   "execution_count": null,
   "metadata": {},
   "outputs": [],
   "source": [
    "labels_files, vid_files = pred_cfg.get_data_paths(mode=\"test\", data_cfg=pred_cfg.cfg.dataset.test_dataset)\n",
    "\n",
    "for label_file, vid_file in zip(labels_files, vid_files):\n",
    "    dataset = pred_cfg.get_dataset(\n",
    "        label_files=[label_file], vid_files=[vid_file], mode=\"test\"\n",
    "    )\n",
    "    dataloader = pred_cfg.get_dataloader(dataset, mode=\"test\")\n",
    "    \n",
    "    # the actual inference is done here\n",
    "    preds = trainer.predict(model, dataloader)\n",
    "\n",
    "    # convert the predictions to sleap format\n",
    "    pred_slp = []\n",
    "    tracks = {}\n",
    "    for batch in preds:\n",
    "        for frame in batch:\n",
    "            if frame.frame_id.item() == 0:\n",
    "                video = (\n",
    "                    sio.Video(frame.video)\n",
    "                    if isinstance(frame.video, str)\n",
    "                    else sio.Video\n",
    "                )\n",
    "            lf, tracks = frame.to_slp(tracks, video=video)\n",
    "            pred_slp.append(lf)\n",
    "    pred_slp = sio.Labels(pred_slp)\n",
    "    # save the predictions to disk (requires sleap-io)\n",
    "    outpath = os.path.join(\n",
    "        outdir, f\"{Path(label_file).stem}.dreem_inference.{datetime.now().strftime('%m-%d-%Y-%H-%M-%S')}.slp\"\n",
    "    )\n",
    "    pred_slp.save(outpath)"
   ]
  },
  {
   "cell_type": "markdown",
   "metadata": {},
   "source": [
    "## Visualize the results"
   ]
  },
  {
   "cell_type": "code",
   "execution_count": 20,
   "metadata": {},
   "outputs": [],
   "source": [
    "import cv2\n",
    "import matplotlib.colors as mcolors\n",
    "from matplotlib.animation import FuncAnimation\n",
    "from matplotlib.patches import Circle\n",
    "import matplotlib.cm as cm\n",
    "from IPython.display import HTML, display\n",
    "import io\n",
    "import base64\n",
    "from IPython.display import Video\n",
    "\n",
    "def create_animal_tracking_animation_notebook(video_path, metadata_df, \n",
    "                                             fps=30, text_size=8, marker_size=20,\n",
    "                                             max_frames=None, display_width=800):\n",
    "    \"\"\"\n",
    "    Create and display an animal tracking animation directly in the notebook.\n",
    "    \n",
    "    Parameters:\n",
    "    -----------\n",
    "    video_path : str\n",
    "        Path to the input MP4 video file\n",
    "    metadata_df : pandas.DataFrame\n",
    "        DataFrame with columns: frame_id, track_id, centroid\n",
    "    fps : int\n",
    "        Frames per second for the animation\n",
    "    text_size : int\n",
    "        Size of the ID text\n",
    "    marker_size : int\n",
    "        Size of the marker circle\n",
    "    max_frames : int, optional\n",
    "        Maximum number of frames to process (useful for previewing)\n",
    "    display_width : int\n",
    "        Width of the displayed animation in the notebook\n",
    "    \"\"\"\n",
    "    # Open the video file\n",
    "    cap = cv2.VideoCapture(video_path)\n",
    "    if not cap.isOpened():\n",
    "        raise ValueError(f\"Could not open video file: {video_path}\")\n",
    "    \n",
    "    # Get video properties\n",
    "    width = int(cap.get(cv2.CAP_PROP_FRAME_WIDTH))\n",
    "    height = int(cap.get(cv2.CAP_PROP_FRAME_HEIGHT))\n",
    "    total_frames = int(cap.get(cv2.CAP_PROP_FRAME_COUNT))\n",
    "    \n",
    "    # Create a colormap for track IDs\n",
    "    unique_ids = metadata_df['track_id'].unique()\n",
    "    cmap = cm.get_cmap('tab10', len(unique_ids))  # Using 'hsv' for bright, distinct colors\n",
    "    id_to_color = {id_val: cmap(i) for i, id_val in enumerate(unique_ids)}\n",
    "    \n",
    "    # Set up the figure and axis with the correct aspect ratio\n",
    "    fig_width = display_width / 100  # Convert to inches (assuming 100 dpi)\n",
    "    fig_height = fig_width * (height / width)\n",
    "    fig, ax = plt.subplots(figsize=(fig_width, fig_height))\n",
    "    \n",
    "    # Initialize the plot elements\n",
    "    frame_img = ax.imshow(np.zeros((height, width, 3), dtype=np.uint8))\n",
    "    markers = []\n",
    "    texts = []\n",
    "    \n",
    "    # Get the list of frame IDs from the metadata\n",
    "    frame_ids = sorted(metadata_df['frame_id'].unique())\n",
    "    \n",
    "    # Limit the number of frames if specified\n",
    "    if max_frames is not None and max_frames < len(frame_ids):\n",
    "        frame_ids = frame_ids[:max_frames]\n",
    "        print(f\"Limiting preview to {max_frames} frames\")\n",
    "    \n",
    "    # Function to update the animation for each frame\n",
    "    def update(frame_num):\n",
    "        # Read the frame from the video\n",
    "        cap.set(cv2.CAP_PROP_POS_FRAMES, frame_num)\n",
    "        ret, frame = cap.read()\n",
    "        if not ret:\n",
    "            print(f\"Failed to read frame {frame_num}\")\n",
    "            return []\n",
    "        \n",
    "        # Convert BGR to RGB (OpenCV uses BGR, matplotlib uses RGB)\n",
    "        frame_rgb = cv2.cvtColor(frame, cv2.COLOR_BGR2RGB)\n",
    "        frame_img.set_array(frame_rgb)\n",
    "        \n",
    "        # Clear previous markers and texts\n",
    "        for marker in markers:\n",
    "            marker.remove()\n",
    "        markers.clear()\n",
    "        \n",
    "        for text in texts:\n",
    "            text.remove()\n",
    "        texts.clear()\n",
    "        \n",
    "        # Get data for the current frame\n",
    "        frame_data = metadata_df[metadata_df['frame_id'] == frame_num]\n",
    "        \n",
    "        # Add markers and IDs for each animal in the current frame\n",
    "        for _, row in frame_data.iterrows():\n",
    "            track_id = row['track_id']\n",
    "            x, y = row['centroid']\n",
    "            color = id_to_color[track_id]\n",
    "            \n",
    "            # Add circle marker\n",
    "            circle = Circle((x, y), marker_size, color=color, alpha=0.7)\n",
    "            markers.append(ax.add_patch(circle))\n",
    "            \n",
    "            # Add ID text\n",
    "            text = ax.text(x, y, str(track_id), color='white', \n",
    "                          fontsize=text_size, ha='center', va='center', \n",
    "                          fontweight='bold')\n",
    "            texts.append(text)\n",
    "        \n",
    "        # Add frame number for reference\n",
    "        frame_text = ax.text(10, 20, f\"Frame: {frame_num}\", color='white', \n",
    "                            fontsize=text_size, backgroundcolor='black')\n",
    "        texts.append(frame_text)\n",
    "        \n",
    "        return [frame_img] + markers + texts\n",
    "    \n",
    "    # Set up the axis\n",
    "    ax.set_xlim(0, width)\n",
    "    ax.set_ylim(height, 0)  # Invert y-axis to match image coordinates\n",
    "    ax.axis('off')\n",
    "    \n",
    "    # Create the animation\n",
    "    print(f\"Creating animation with {len(frame_ids)} frames...\")\n",
    "    anim = FuncAnimation(fig, update, frames=frame_ids, blit=True)\n",
    "    \n",
    "    # Display the animation in the notebook\n",
    "    plt.close(fig)  # Prevent duplicate display\n",
    "    \n",
    "    # Display as HTML5 video\n",
    "    html_video = HTML(anim.to_html5_video())\n",
    "    display(html_video)\n",
    "    \n",
    "    return anim\n",
    "\n",
    "# Option to save the animation to a file for later viewing\n",
    "def save_animation(anim, output_path, fps=10, dpi=100):\n",
    "    \"\"\"Save the animation to a file\"\"\"\n",
    "    anim.save(output_path, writer='ffmpeg', fps=fps, dpi=dpi)\n",
    "    print(f\"Animation saved to {output_path}\")\n",
    "    \n",
    "    # Display the saved video in the notebook\n",
    "    return Video(output_path, embed=True, width=800)"
   ]
  },
  {
   "cell_type": "markdown",
   "metadata": {},
   "source": [
    "Load the predictions into a dataframe to make an animation"
   ]
  },
  {
   "cell_type": "code",
   "execution_count": 21,
   "metadata": {},
   "outputs": [],
   "source": [
    "list_frames = []\n",
    "for lf in pred_slp:\n",
    "    for instance in lf.instances:\n",
    "        centroid = np.nanmean(instance.numpy(), axis=0)\n",
    "        track_id = int(instance.track.name)\n",
    "        list_frames.append({'frame_id': lf.frame_idx, 'track_id': track_id, 'centroid': centroid})\n",
    "df = pd.DataFrame(list_frames)"
   ]
  },
  {
   "cell_type": "markdown",
   "metadata": {},
   "source": [
    "Create and display the animation in the notebook"
   ]
  },
  {
   "cell_type": "code",
   "execution_count": null,
   "metadata": {},
   "outputs": [],
   "source": [
    "for file in os.listdir(pred_cfg.cfg.dataset.test_dataset['dir']['path']):\n",
    "    if file.endswith('.mp4'):\n",
    "        video_path = os.path.join(pred_cfg.cfg.dataset.test_dataset['dir']['path'], file)\n",
    "\n",
    "anim = create_animal_tracking_animation_notebook(\n",
    "    video_path=video_path,\n",
    "    metadata_df=df,\n",
    "    fps=15,\n",
    "    text_size=8,\n",
    "    marker_size=20,\n",
    "    max_frames=300\n",
    ")\n",
    "\n",
    "# save the animation\n",
    "video = save_animation(anim, f\"./animal_tracking_vis-{video_path.split('/')[-1]}\")"
   ]
  },
  {
   "cell_type": "markdown",
   "metadata": {},
   "source": [
    "## Evaluate the tracking results\n",
    "### Here we run inference on a video **with** ground truth labels. Then we will compute metrics for our tracking results. \n",
    "Note that we are only using separate configs for inference and evaluation so you can verify that the test file has no ground truth in it for inference, and that it does for evaluation. For eval, the slp file should have a \"GT_\" prefix to indicate that it is a ground truth file. For eval, you can also specify the metrics you want to compute. We offer a CLI interface for both evaluation and inference."
   ]
  },
  {
   "cell_type": "code",
   "execution_count": 23,
   "metadata": {},
   "outputs": [],
   "source": [
    "pred_cfg_path = \"./data/configs/eval.yaml\"\n",
    "# use OmegaConf to load the config\n",
    "eval_cfg = OmegaConf.load(pred_cfg_path)\n",
    "eval_cfg = Config(eval_cfg)"
   ]
  },
  {
   "cell_type": "code",
   "execution_count": 24,
   "metadata": {},
   "outputs": [],
   "source": [
    "model.metrics[\"test\"] = eval_cfg.get(\"metrics\", {}).get(\"test\", \"all\")\n",
    "model.test_results[\"save_path\"] = eval_cfg.get(\"outdir\", \"./eval\")\n",
    "os.makedirs(model.test_results[\"save_path\"], exist_ok=True)"
   ]
  },
  {
   "cell_type": "markdown",
   "metadata": {},
   "source": [
    "Run evaluation pipeline. Note how we use trainer.test() to run evaluation whereas earlier, we used trainer.predict() to run inference"
   ]
  },
  {
   "cell_type": "code",
   "execution_count": null,
   "metadata": {},
   "outputs": [],
   "source": [
    "labels_files, vid_files = eval_cfg.get_data_paths(mode=\"test\", data_cfg=eval_cfg.cfg.dataset.test_dataset)\n",
    "trainer = eval_cfg.get_trainer()\n",
    "for label_file, vid_file in zip(labels_files, vid_files):\n",
    "    dataset = eval_cfg.get_dataset(\n",
    "        label_files=[label_file], vid_files=[vid_file], mode=\"test\"\n",
    "    )\n",
    "    dataloader = eval_cfg.get_dataloader(dataset, mode=\"test\")\n",
    "    metrics = trainer.test(model, dataloader)"
   ]
  },
  {
   "cell_type": "markdown",
   "metadata": {},
   "source": [
    "### Extract the results and view key metrics\n",
    "The results get saved to an HDF5 file in the directory specified in the config"
   ]
  },
  {
   "cell_type": "code",
   "execution_count": 26,
   "metadata": {},
   "outputs": [],
   "source": [
    "for file in os.listdir(model.test_results[\"save_path\"]):\n",
    "    if file.endswith(\".h5\"):\n",
    "        h5_path = os.path.join(model.test_results[\"save_path\"], file)"
   ]
  },
  {
   "cell_type": "code",
   "execution_count": null,
   "metadata": {},
   "outputs": [],
   "source": [
    "dict_vid_motmetrics = {}\n",
    "dict_vid_gta = {}\n",
    "dict_vid_switch_frame_crops = {}\n",
    "\n",
    "with h5py.File(h5_path, \"r\") as results_file:\n",
    "    # Iterate through all video groups\n",
    "    for vid_name in results_file.keys():\n",
    "        print(\"Extracting metrics and crops for video: \", vid_name)\n",
    "        vid_group = results_file[vid_name]\n",
    "        # Load MOT summary\n",
    "        if \"mot_summary\" in vid_group:\n",
    "            mot_summary_keys = list(vid_group[\"mot_summary\"].attrs)\n",
    "            mot_summary_values = [vid_group[\"mot_summary\"].attrs[key] for key in mot_summary_keys]\n",
    "            df_motmetrics = pd.DataFrame(list(zip(mot_summary_keys, mot_summary_values)), columns=[\"metric\", \"value\"])\n",
    "            dict_vid_motmetrics[vid_name] = df_motmetrics\n",
    "        # Load global tracking accuracy if available\n",
    "        if \"global_tracking_accuracy\" in vid_group:\n",
    "            gta_keys = list(vid_group[\"global_tracking_accuracy\"].attrs)\n",
    "            gta_values = [vid_group[\"global_tracking_accuracy\"].attrs[key] for key in gta_keys]\n",
    "            df_gta = pd.DataFrame(list(zip(gta_keys, gta_values)), columns=[\"metric\", \"value\"])\n",
    "            dict_vid_gta[vid_name] = df_gta\n",
    "        # Find all frames with switches and save the crops\n",
    "        frame_crop_dict = {}\n",
    "        for key in vid_group.keys():\n",
    "            if key.startswith(\"frame_\"):\n",
    "                frame = vid_group[key]\n",
    "                frame_id = frame.attrs[\"frame_id\"]\n",
    "                for key in frame.keys():\n",
    "                    if key.startswith(\"instance_\"):\n",
    "                        instance = frame[key]\n",
    "                        if \"crop\" in instance.keys():\n",
    "                            frame_crop_dict[frame_id] = instance[\"crop\"][:].squeeze().transpose(1,2,0)\n",
    "        dict_vid_switch_frame_crops[vid_name] = frame_crop_dict"
   ]
  },
  {
   "cell_type": "markdown",
   "metadata": {},
   "source": [
    "Check the switch count (and other mot metrics) for the whole video. You should see 0 switches. This means that the tracker consistently maintained identities across the video."
   ]
  },
  {
   "cell_type": "code",
   "execution_count": null,
   "metadata": {},
   "outputs": [],
   "source": [
    "motmetrics = list(dict_vid_motmetrics.values())[0]\n",
    "# motmetrics.loc[motmetrics['metric'] == 'num_switches']\n",
    "motmetrics"
   ]
  },
  {
   "cell_type": "markdown",
   "metadata": {},
   "source": [
    "Check global tracking accuracy. This represents the percentage of frames where the tracker correctly maintained identities for each instance. In this case, since there were no switches, the global tracking accuracy is 100% for all instances."
   ]
  },
  {
   "cell_type": "code",
   "execution_count": null,
   "metadata": {},
   "outputs": [],
   "source": [
    "gta = list(dict_vid_gta.values())[0]\n",
    "gta"
   ]
  }
 ],
 "metadata": {
  "kernelspec": {
   "display_name": "dreem",
   "language": "python",
   "name": "python3"
  },
  "language_info": {
   "codemirror_mode": {
    "name": "ipython",
    "version": 3
   },
   "file_extension": ".py",
   "mimetype": "text/x-python",
   "name": "python",
   "nbconvert_exporter": "python",
   "pygments_lexer": "ipython3",
   "version": "3.11.11"
  }
 },
 "nbformat": 4,
 "nbformat_minor": 2
}
