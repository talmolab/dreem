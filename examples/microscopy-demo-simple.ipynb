{
 "cells": [
  {
   "cell_type": "markdown",
   "metadata": {},
   "source": [
    "## DREEM workflow for microscopy - basic API usage\n",
    "### From raw tiff stacks to tracked identities"
   ]
  },
  {
   "cell_type": "markdown",
   "metadata": {},
   "source": [
    "This notebook will walk you through the typical workflow for microscopy identity tracking. We start with a raw tiff stack, pass it through an off-the-shelf detection model, and feed those detections into DREEM. \n",
    "\n",
    "This notebook uses a simple entrypoint into the tracking code. You only need to specify a configuration file, and a few lines of code!\n",
    "\n",
    "To run this demo, we have provided sample data, model checkpoints, and configurations. The data used in this demo is small enough to be run on a CPU"
   ]
  },
  {
   "cell_type": "markdown",
   "metadata": {},
   "source": [
    "#### Directory structure: (data, models and configs will be downloaded)\n",
    "```\n",
    "./data\n",
    "    /dynamicnuclearnet\n",
    "        /test_1\n",
    "        /mp4-for-visualization\n",
    "    /lysosomes\n",
    "        /7-2\n",
    "        /7-2_GT\n",
    "        /mp4-for-visualization\n",
    "./configs\n",
    "    eval.yaml\n",
    "./models\n",
    "    pretrained_microscopy.ckpt\n",
    " microscopy-demo-simple.ipynb\n",
    " ```"
   ]
  },
  {
   "cell_type": "markdown",
   "metadata": {},
   "source": [
    "#### Install huggingface hub to access models and data"
   ]
  },
  {
   "cell_type": "code",
   "execution_count": null,
   "metadata": {},
   "outputs": [],
   "source": [
    "!pip install huggingface_hub"
   ]
  },
  {
   "cell_type": "markdown",
   "metadata": {},
   "source": [
    "#### Import necessary packages"
   ]
  },
  {
   "cell_type": "code",
   "execution_count": 20,
   "metadata": {},
   "outputs": [],
   "source": [
    "import os\n",
    "import torch\n",
    "import numpy as np\n",
    "from omegaconf import OmegaConf\n",
    "from dreem.inference import track\n",
    "import matplotlib.pyplot as plt\n",
    "from pathlib import Path\n",
    "import pandas as pd\n",
    "from huggingface_hub import hf_hub_download"
   ]
  },
  {
   "cell_type": "markdown",
   "metadata": {},
   "source": [
    "#### Download a pretrained model, configs and some data"
   ]
  },
  {
   "cell_type": "code",
   "execution_count": null,
   "metadata": {},
   "outputs": [],
   "source": [
    "model_save_dir = \"./models\"\n",
    "config_save_dir = \"./configs\"\n",
    "data_save_dir = \"./data\"\n",
    "os.makedirs(config_save_dir, exist_ok=True)\n",
    "os.makedirs(data_save_dir, exist_ok=True)\n",
    "os.makedirs(model_save_dir, exist_ok=True)"
   ]
  },
  {
   "cell_type": "code",
   "execution_count": null,
   "metadata": {},
   "outputs": [],
   "source": [
    "model_path = hf_hub_download(repo_id=\"talmolab/microscopy-pretrained\", filename=\"pretrained-microscopy.ckpt\",\n",
    "local_dir=model_save_dir)\n",
    "\n",
    "config_path = hf_hub_download(repo_id=\"talmolab/microscopy-pretrained\", filename=\"sample-eval-microscopy.yaml\",\n",
    "local_dir=config_save_dir)"
   ]
  },
  {
   "cell_type": "code",
   "execution_count": null,
   "metadata": {},
   "outputs": [],
   "source": [
    "!huggingface-cli download talmolab/microscopy-demo --repo-type dataset --local-dir ./data"
   ]
  },
  {
   "cell_type": "markdown",
   "metadata": {},
   "source": [
    "#### Verify that the model loads properly"
   ]
  },
  {
   "cell_type": "code",
   "execution_count": null,
   "metadata": {},
   "outputs": [],
   "source": [
    "m = GTRRunner.load_from_checkpoint(model_path, strict=False)"
   ]
  },
  {
   "cell_type": "markdown",
   "metadata": {},
   "source": [
    "Check if a GPU is available. For Apple silicon users, you can run on MPS, but ensure your version of PyTorch is compatible with MPS, and that you have installed the correct version of DREEM. You can also run without a GPU. The demo has been tested on an M3 Macbook Air running only on a CPU.\n"
   ]
  },
  {
   "cell_type": "code",
   "execution_count": null,
   "metadata": {},
   "outputs": [],
   "source": [
    "cuda_available = torch.cuda.is_available()\n",
    "print(f\"CUDA available: {cuda_available}\")\n",
    "if cuda_available:\n",
    "    accelerator = \"cuda\"\n",
    "elif torch.backends.mps.is_available():\n",
    "    accelerator = \"mps\"\n",
    "    devices = 1\n",
    "else:\n",
    "    accelerator = \"cpu\"\n",
    "print(\"Using device: \", accelerator)\n",
    "\n",
    "torch.set_float32_matmul_precision(\"medium\")"
   ]
  },
  {
   "cell_type": "markdown",
   "metadata": {},
   "source": [
    "## Detection"
   ]
  },
  {
   "cell_type": "markdown",
   "metadata": {},
   "source": [
    "Here we use CellPose to create segmentation masks for our instances. **If you want to skip this stage**, we have provided segmentation masks for the lysosomes dataset located at ./data/lysosomes. You can enter this path in the configuration file provided, under dataset.test_dataset.dir.path, and then skip straight ahead to the section labelled DREEM Inference below"
   ]
  },
  {
   "cell_type": "markdown",
   "metadata": {},
   "source": [
    "#### Install CellPose"
   ]
  },
  {
   "cell_type": "code",
   "execution_count": null,
   "metadata": {},
   "outputs": [],
   "source": [
    "!pip install git+https://www.github.com/mouseland/cellpose.git"
   ]
  },
  {
   "cell_type": "code",
   "execution_count": null,
   "metadata": {},
   "outputs": [],
   "source": [
    "import tifffile\n",
    "from cellpose import models"
   ]
  },
  {
   "cell_type": "code",
   "execution_count": 7,
   "metadata": {},
   "outputs": [],
   "source": [
    "data_path = \"./data/dynamicnuclearnet/test_1\"\n",
    "segmented_path = \"./data/dynamicnuclearnet/test_1_GT/TRA\"\n",
    "os.makedirs(segmented_path, exist_ok=True)"
   ]
  },
  {
   "cell_type": "markdown",
   "metadata": {},
   "source": [
    "Set the approximate diameter (in pixels) of the instances you want to segment"
   ]
  },
  {
   "cell_type": "code",
   "execution_count": 9,
   "metadata": {},
   "outputs": [],
   "source": [
    "diam_px = 25"
   ]
  },
  {
   "cell_type": "markdown",
   "metadata": {},
   "source": [
    "#### Run detection model"
   ]
  },
  {
   "cell_type": "code",
   "execution_count": null,
   "metadata": {},
   "outputs": [],
   "source": [
    "tiff_files = [f for f in os.listdir(data_path) if f.endswith('.tif') or f.endswith('.tiff')]\n",
    "stack = np.stack([tifffile.imread(os.path.join(data_path, f)) for f in tiff_files])\n",
    "frames, Y, X = stack.shape\n",
    "\n",
    "channels = [0, 0]\n",
    "# use builtin latest model\n",
    "model = models.CellposeModel(gpu=True)\n",
    "all_masks = np.zeros_like(stack)\n",
    "for i, img in enumerate(stack):\n",
    "    masks, flows, styles = model.eval(\n",
    "        img,\n",
    "        diameter=diam_px,\n",
    "        cellprob_threshold=0.0,\n",
    "        channels=channels,\n",
    "        z_axis=None,\n",
    "    )\n",
    "    all_masks[i] = masks"
   ]
  },
  {
   "cell_type": "markdown",
   "metadata": {},
   "source": [
    "#### Save the segmentation masks"
   ]
  },
  {
   "cell_type": "code",
   "execution_count": null,
   "metadata": {},
   "outputs": [],
   "source": [
    "os.makedirs(segmented_path, exist_ok=True)\n",
    "for i, (mask, filename) in enumerate(zip(all_masks, tiff_files)):\n",
    "    new_tiff_path = os.path.join(segmented_path, f\"{os.path.splitext(filename)[0]}.tif\")\n",
    "    print(f\"exporting frame {i} to tiff at {new_tiff_path}\")\n",
    "    tifffile.imwrite(new_tiff_path, mask)"
   ]
  },
  {
   "cell_type": "markdown",
   "metadata": {},
   "source": [
    "### View the segmentation result and original image "
   ]
  },
  {
   "cell_type": "code",
   "execution_count": null,
   "metadata": {},
   "outputs": [],
   "source": [
    "fig, (ax1, ax2) = plt.subplots(1, 2, figsize=(12, 6))\n",
    "ax1.imshow(all_masks[0])\n",
    "ax1.set_title('Segmentation Mask')\n",
    "ax2.imshow(stack[0])\n",
    "ax2.set_title('Original Image')\n",
    "plt.tight_layout()\n",
    "plt.show()"
   ]
  },
  {
   "cell_type": "markdown",
   "metadata": {},
   "source": [
    "## DREEM Inference"
   ]
  },
  {
   "cell_type": "code",
   "execution_count": 14,
   "metadata": {},
   "outputs": [],
   "source": [
    "pred_cfg_path = \"./configs/eval.yaml\"\n",
    "pred_cfg = OmegaConf.load(pred_cfg_path)"
   ]
  },
  {
   "cell_type": "code",
   "execution_count": null,
   "metadata": {},
   "outputs": [],
   "source": [
    "preds = track.run(pred_cfg)"
   ]
  },
  {
   "cell_type": "markdown",
   "metadata": {},
   "source": [
    "## Visualize the results"
   ]
  },
  {
   "cell_type": "code",
   "execution_count": 16,
   "metadata": {},
   "outputs": [],
   "source": [
    "import cv2\n",
    "import matplotlib.colors as mcolors\n",
    "from matplotlib.animation import FuncAnimation\n",
    "from matplotlib.patches import Circle\n",
    "import matplotlib.cm as cm\n",
    "from IPython.display import HTML, display\n",
    "import io\n",
    "import base64\n",
    "from IPython.display import Video\n",
    "\n",
    "def create_tracking_animation(video_path, metadata_df, \n",
    "                                             fps=30, text_size=8, marker_size=20,\n",
    "                                             max_frames=None, display_width=800):\n",
    "    \"\"\"\n",
    "    Create and display an animal tracking animation directly in the notebook.\n",
    "    \n",
    "    Parameters:\n",
    "    -----------\n",
    "    video_path : str\n",
    "        Path to the input MP4 video file\n",
    "    metadata_df : pandas.DataFrame\n",
    "        DataFrame with columns: frame_id, track_id, centroid\n",
    "    fps : int\n",
    "        Frames per second for the animation\n",
    "    text_size : int\n",
    "        Size of the ID text\n",
    "    marker_size : int\n",
    "        Size of the marker circle\n",
    "    max_frames : int, optional\n",
    "        Maximum number of frames to process (useful for previewing)\n",
    "    display_width : int\n",
    "        Width of the displayed animation in the notebook\n",
    "    \"\"\"\n",
    "    # Open the video file\n",
    "    cap = cv2.VideoCapture(video_path)\n",
    "    if not cap.isOpened():\n",
    "        raise ValueError(f\"Could not open video file: {video_path}\")\n",
    "    \n",
    "    # Get video properties\n",
    "    width = int(cap.get(cv2.CAP_PROP_FRAME_WIDTH))\n",
    "    height = int(cap.get(cv2.CAP_PROP_FRAME_HEIGHT))\n",
    "    total_frames = int(cap.get(cv2.CAP_PROP_FRAME_COUNT))\n",
    "    \n",
    "    # Create a colormap for track IDs\n",
    "    unique_ids = metadata_df['track_id'].unique()\n",
    "    cmap = cm.get_cmap('viridis', len(unique_ids))  # Using 'hsv' for bright, distinct colors\n",
    "    id_to_color = {id_val: cmap(i) for i, id_val in enumerate(unique_ids)}\n",
    "    \n",
    "    # Set up the figure and axis with the correct aspect ratio\n",
    "    fig_width = display_width / 100  # Convert to inches (assuming 100 dpi)\n",
    "    fig_height = fig_width * (height / width)\n",
    "    fig, ax = plt.subplots(figsize=(fig_width, fig_height))\n",
    "    \n",
    "    # Initialize the plot elements\n",
    "    frame_img = ax.imshow(np.zeros((height, width, 3), dtype=np.uint8))\n",
    "    markers = []\n",
    "    texts = []\n",
    "    \n",
    "    # Get the list of frame IDs from the metadata\n",
    "    frame_ids = sorted(metadata_df['frame_id'].unique())\n",
    "    \n",
    "    # Limit the number of frames if specified\n",
    "    if max_frames is not None and max_frames < len(frame_ids):\n",
    "        frame_ids = frame_ids[:max_frames]\n",
    "        print(f\"Limiting preview to {max_frames} frames\")\n",
    "    \n",
    "    # Function to update the animation for each frame\n",
    "    def update(frame_num):\n",
    "        # Read the frame from the video\n",
    "        cap.set(cv2.CAP_PROP_POS_FRAMES, frame_num)\n",
    "        ret, frame = cap.read()\n",
    "        if not ret:\n",
    "            print(f\"Failed to read frame {frame_num}\")\n",
    "            return []\n",
    "        \n",
    "        # Convert BGR to RGB (OpenCV uses BGR, matplotlib uses RGB)\n",
    "        frame_rgb = cv2.cvtColor(frame, cv2.COLOR_BGR2RGB)\n",
    "        frame_img.set_array(frame_rgb)\n",
    "        \n",
    "        # Clear previous markers and texts\n",
    "        for marker in markers:\n",
    "            marker.remove()\n",
    "        markers.clear()\n",
    "        \n",
    "        for text in texts:\n",
    "            text.remove()\n",
    "        texts.clear()\n",
    "        \n",
    "        # Get data for the current frame\n",
    "        frame_data = metadata_df[metadata_df['frame_id'] == frame_num]\n",
    "        \n",
    "        # Add markers and IDs for each animal in the current frame\n",
    "        for _, row in frame_data.iterrows():\n",
    "            track_id = row['track_id']\n",
    "            x, y = row['centroid']\n",
    "            color = id_to_color[track_id]\n",
    "            \n",
    "            # Add circle marker\n",
    "            circle = Circle((x, y), marker_size, color=color, alpha=0.3)\n",
    "            markers.append(ax.add_patch(circle))\n",
    "            \n",
    "            # Add ID text\n",
    "            text = ax.text(x, y, str(track_id), color='white', \n",
    "                          fontsize=text_size, ha='center', va='center', \n",
    "                          fontweight='bold')\n",
    "            texts.append(text)\n",
    "        \n",
    "        # Add frame number for reference\n",
    "        frame_text = ax.text(10, 20, f\"Frame: {frame_num}\", color='white', \n",
    "                            fontsize=text_size, backgroundcolor='black')\n",
    "        texts.append(frame_text)\n",
    "        \n",
    "        return [frame_img] + markers + texts\n",
    "    \n",
    "    # Set up the axis\n",
    "    ax.set_xlim(0, width)\n",
    "    ax.set_ylim(height, 0)  # Invert y-axis to match image coordinates\n",
    "    ax.axis('off')\n",
    "    \n",
    "    # Create the animation\n",
    "    print(f\"Creating animation with {len(frame_ids)} frames...\")\n",
    "    anim = FuncAnimation(fig, update, frames=frame_ids, blit=True)\n",
    "    \n",
    "    # Display the animation in the notebook\n",
    "    plt.close(fig)  # Prevent duplicate display\n",
    "    \n",
    "    # Display as HTML5 video\n",
    "    html_video = HTML(anim.to_html5_video())\n",
    "    display(html_video)\n",
    "    \n",
    "    return anim\n",
    "\n",
    "# Option to save the animation to a file for later viewing\n",
    "def save_animation(anim, output_path, fps=10, dpi=100):\n",
    "    \"\"\"Save the animation to a file\"\"\"\n",
    "    anim.save(output_path, writer='ffmpeg', fps=fps, dpi=dpi)\n",
    "    print(f\"Animation saved to {output_path}\")\n",
    "    \n",
    "    # Display the saved video in the notebook\n",
    "    return Video(output_path, embed=True, width=800)"
   ]
  },
  {
   "cell_type": "markdown",
   "metadata": {},
   "source": [
    "Load the predictions into a dataframe to make an animation"
   ]
  },
  {
   "cell_type": "code",
   "execution_count": 21,
   "metadata": {},
   "outputs": [],
   "source": [
    "list_frames = []\n",
    "for lf in preds:\n",
    "    for instance in lf.instances:\n",
    "        centroid = np.nanmean(instance.numpy(), axis=0)\n",
    "        track_id = int(instance.track.name)\n",
    "        list_frames.append({'frame_id': lf.frame_idx, 'track_id': track_id, 'centroid': centroid})\n",
    "df = pd.DataFrame(list_frames)"
   ]
  },
  {
   "cell_type": "markdown",
   "metadata": {},
   "source": [
    "Create and display the animation in the notebook"
   ]
  },
  {
   "cell_type": "code",
   "execution_count": null,
   "metadata": {},
   "outputs": [],
   "source": [
    "for file in os.listdir(os.path.join(pred_cfg.dataset.test_dataset['dir']['path'], \"mp4-for-visualization\")):\n",
    "    if file.endswith('.mp4'):\n",
    "        video_path = os.path.join(pred_cfg.dataset.test_dataset['dir']['path'], \"mp4-for-visualization\", file)\n",
    "\n",
    "anim = create_tracking_animation(\n",
    "    video_path=video_path,\n",
    "    metadata_df=df,\n",
    "    fps=15,\n",
    "    text_size=5,\n",
    "    marker_size=8,\n",
    "    max_frames=200\n",
    ")\n",
    "\n",
    "# save the animation\n",
    "video = save_animation(anim, f\"./tracking_vis-{video_path.split('/')[-1]}\")"
   ]
  }
 ],
 "metadata": {
  "kernelspec": {
   "display_name": "dreem",
   "language": "python",
   "name": "python3"
  },
  "language_info": {
   "codemirror_mode": {
    "name": "ipython",
    "version": 3
   },
   "file_extension": ".py",
   "mimetype": "text/x-python",
   "name": "python",
   "nbconvert_exporter": "python",
   "pygments_lexer": "ipython3",
   "version": "3.11.11"
  }
 },
 "nbformat": 4,
 "nbformat_minor": 2
}
