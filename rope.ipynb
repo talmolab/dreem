{
 "cells": [
  {
   "cell_type": "code",
   "execution_count": 35,
   "id": "1bd666a7-0ad1-4ae7-a56e-43429a1228d8",
   "metadata": {
    "tags": []
   },
   "outputs": [],
   "source": [
    "import numpy as np\n",
    "import dreem\n",
    "import os\n",
    "import matplotlib.pyplot as plt\n",
    "import math\n",
    "import torch\n",
    "import logging\n",
    "from dreem.models.mlp import MLP\n",
    "from dreem.models.model_utils import *\n",
    "from dreem.datasets import SleapDataset\n",
    "import torchtune.modules as tune\n",
    "from dreem.models.transformer import TransformerEncoderLayer\n",
    "from dreem.models import VisualEncoder\n",
    "from dreem.models import GlobalTrackingTransformer"
   ]
  },
  {
   "cell_type": "code",
   "execution_count": 36,
   "id": "a8736593-71f7-4ab6-a594-eb52d2fd94ac",
   "metadata": {
    "tags": []
   },
   "outputs": [],
   "source": [
    "\"\"\"Module containing different position and temporal embeddings.\"\"\"\n",
    "\n",
    "logger = logging.getLogger(\"dreem.models\")\n",
    "# todo: add named tensors, clean variable names\n",
    "\n",
    "\n",
    "class Embedding(torch.nn.Module):\n",
    "    \"\"\"Class that wraps around different embedding types.\n",
    "\n",
    "    Used for both learned and fixed embeddings.\n",
    "    \"\"\"\n",
    "\n",
    "    EMB_TYPES = {\n",
    "        \"temp\": {},\n",
    "        \"pos\": {\"over_boxes\"},\n",
    "        \"off\": {},\n",
    "        None: {},\n",
    "    }  # dict of valid args:keyword params\n",
    "    EMB_MODES = {\n",
    "        \"fixed\": {\"temperature\", \"scale\", \"normalize\"},\n",
    "        \"learned\": {\"emb_num\"},\n",
    "        \"off\": {},\n",
    "    }  # dict of valid args:keyword params\n",
    "\n",
    "    def __init__(\n",
    "        self,\n",
    "        emb_type: str,\n",
    "        mode: str,\n",
    "        features: int,\n",
    "        n_points: int = 1,\n",
    "        emb_num: int = 16,\n",
    "        over_boxes: bool = True,\n",
    "        temperature: int = 10000,\n",
    "        normalize: bool = False,\n",
    "        scale: float | None = None,\n",
    "        mlp_cfg: dict | None = None,\n",
    "    ):\n",
    "        \"\"\"Initialize embeddings.\n",
    "\n",
    "        Args:\n",
    "            emb_type: The type of embedding to compute. Must be one of `{\"temp\", \"pos\", \"off\"}`\n",
    "            mode: The mode or function used to map positions to vector embeddings.\n",
    "                  Must be one of `{\"fixed\", \"learned\", \"off\"}`\n",
    "            features: The embedding dimensions. Must match the dimension of the\n",
    "                      input vectors for the transformer model.\n",
    "            n_points: the number of points that will be embedded.\n",
    "            emb_num: the number of embeddings in the `self.lookup` table (Only used in learned embeddings).\n",
    "            over_boxes: Whether to compute the position embedding for each bbox coordinate (y1x1y2x2) or the centroid + bbox size (yxwh).\n",
    "            temperature: the temperature constant to be used when computing the sinusoidal position embedding\n",
    "            normalize: whether or not to normalize the positions (Only used in fixed embeddings).\n",
    "            scale: factor by which to scale the positions after normalizing (Only used in fixed embeddings).\n",
    "            mlp_cfg: A dictionary of mlp hyperparameters for projecting embedding to correct space.\n",
    "                    Example: {\"hidden_dims\": 256, \"num_layers\":3, \"dropout\": 0.3}\n",
    "        \"\"\"\n",
    "        self._check_init_args(emb_type, mode)\n",
    "\n",
    "        super().__init__()\n",
    "\n",
    "        self.emb_type = emb_type\n",
    "        self.mode = mode\n",
    "        self.features = features\n",
    "        self.emb_num = emb_num\n",
    "        self.over_boxes = over_boxes\n",
    "        self.temperature = temperature\n",
    "        self.normalize = normalize\n",
    "        self.scale = scale\n",
    "        self.n_points = n_points\n",
    "\n",
    "        if self.normalize and self.scale is None:\n",
    "            self.scale = 2 * math.pi\n",
    "\n",
    "        if self.emb_type == \"pos\" and mlp_cfg is not None and mlp_cfg[\"num_layers\"] > 0:\n",
    "            if self.mode == \"fixed\":\n",
    "                self.mlp = MLP(\n",
    "                    input_dim=n_points * self.features,\n",
    "                    output_dim=self.features,\n",
    "                    **mlp_cfg,\n",
    "                )\n",
    "            else:\n",
    "                in_dim = (self.features // (4 * n_points)) * (4 * n_points)\n",
    "                self.mlp = MLP(\n",
    "                    input_dim=in_dim,\n",
    "                    output_dim=self.features,\n",
    "                    **mlp_cfg,\n",
    "                )\n",
    "        else:\n",
    "            self.mlp = torch.nn.Identity()\n",
    "\n",
    "        self._emb_func = lambda tensor: torch.zeros(\n",
    "            (tensor.shape[0], self.features), dtype=tensor.dtype, device=tensor.device\n",
    "        )  # turn off embedding by returning zeros\n",
    "\n",
    "        self.lookup = None\n",
    "\n",
    "        if self.mode == \"learned\":\n",
    "            if self.emb_type == \"pos\":\n",
    "                self.lookup = torch.nn.Embedding(\n",
    "                    self.emb_num * 4 * self.n_points, self.features // (4 * n_points)\n",
    "                )\n",
    "                self._emb_func = self._learned_pos_embedding\n",
    "            elif self.emb_type == \"temp\":\n",
    "                self.lookup = torch.nn.Embedding(self.emb_num, self.features)\n",
    "                self._emb_func = self._learned_temp_embedding\n",
    "\n",
    "        elif self.mode == \"fixed\":\n",
    "            if self.emb_type == \"pos\":\n",
    "                self._emb_func = self._sine_box_embedding\n",
    "            elif self.emb_type == \"temp\":\n",
    "                self._emb_func = self._sine_temp_embedding\n",
    "\n",
    "    def _check_init_args(self, emb_type: str, mode: str):\n",
    "        \"\"\"Check whether the correct arguments were passed to initialization.\n",
    "\n",
    "        Args:\n",
    "            emb_type: The type of embedding to compute. Must be one of `{\"temp\", \"pos\", \"\"}`\n",
    "            mode: The mode or function used to map positions to vector embeddings.\n",
    "                Must be one of `{\"fixed\", \"learned\"}`\n",
    "\n",
    "        Raises:\n",
    "            ValueError:\n",
    "              * if the incorrect `emb_type` or `mode` string are passed\n",
    "            NotImplementedError: if `emb_type` is `temp` and `mode` is `fixed`.\n",
    "        \"\"\"\n",
    "        if emb_type.lower() not in self.EMB_TYPES:\n",
    "            raise ValueError(\n",
    "                f\"Embedding `emb_type` must be one of {self.EMB_TYPES} not {emb_type}\"\n",
    "            )\n",
    "\n",
    "        if mode.lower() not in self.EMB_MODES:\n",
    "            raise ValueError(\n",
    "                f\"Embedding `mode` must be one of {self.EMB_MODES} not {mode}\"\n",
    "            )\n",
    "\n",
    "    def forward(self, seq_positions: torch.Tensor) -> torch.Tensor:\n",
    "        \"\"\"Get the sequence positional embeddings.\n",
    "\n",
    "        Args:\n",
    "            seq_positions:\n",
    "                * An (`N`, 1) tensor where seq_positions[i] represents the temporal position of instance_i in the sequence.\n",
    "                * An (`N`, n_anchors x 4) tensor where seq_positions[i, j, :] represents the [y1, x1, y2, x2] spatial locations of jth point of instance_i in the sequence.\n",
    "\n",
    "        Returns:\n",
    "            An `N` x `self.features` tensor representing the corresponding spatial or temporal embedding.\n",
    "        \"\"\"\n",
    "        emb = self._emb_func(seq_positions)\n",
    "\n",
    "        if emb.shape[-1] != self.features:\n",
    "            raise RuntimeError(\n",
    "                (\n",
    "                    f\"Output embedding dimension is {emb.shape[-1]} but requested {self.features} dimensions! \\n\"\n",
    "                    f\"hint: Try turning the MLP on by passing `mlp_cfg` to the constructor to project to the correct embedding dimensions.\"\n",
    "                )\n",
    "            )\n",
    "        return emb\n",
    "\n",
    "    def _torch_int_div(\n",
    "        self, tensor1: torch.Tensor, tensor2: torch.Tensor\n",
    "    ) -> torch.Tensor:\n",
    "        \"\"\"Perform integer division of two tensors.\n",
    "\n",
    "        Args:\n",
    "            tensor1: dividend tensor.\n",
    "            tensor2: divisor tensor.\n",
    "\n",
    "        Returns:\n",
    "            torch.Tensor, resulting tensor.\n",
    "        \"\"\"\n",
    "        return torch.div(tensor1, tensor2, rounding_mode=\"floor\")\n",
    "\n",
    "    def _sine_box_embedding(self, boxes: torch.Tensor) -> torch.Tensor:\n",
    "        \"\"\"Compute sine positional embeddings for boxes using given parameters.\n",
    "\n",
    "         Args:\n",
    "             boxes: the input boxes of shape N, n_anchors, 4 or B, N, n_anchors, 4\n",
    "                    where the last dimension is the bbox coords in [y1, x1, y2, x2].\n",
    "                    (Note currently `B=batch_size=1`).\n",
    "\n",
    "        Returns:\n",
    "             torch.Tensor, the sine positional embeddings\n",
    "             (embedding[:, 4i] = sin(x)\n",
    "              embedding[:, 4i+1] = cos(x)\n",
    "              embedding[:, 4i+2] = sin(y)\n",
    "              embedding[:, 4i+3] = cos(y)\n",
    "              )\n",
    "        \"\"\"\n",
    "        if self.scale is not None and self.normalize is False:\n",
    "            raise ValueError(\"normalize should be True if scale is passed\")\n",
    "\n",
    "        if len(boxes.size()) == 3:\n",
    "            boxes = boxes.unsqueeze(0)\n",
    "\n",
    "        if self.normalize:\n",
    "            boxes = boxes / (boxes[:, :, -1:] + 1e-6) * self.scale\n",
    "\n",
    "        dim_t = torch.arange(self.features // 4, dtype=torch.float32)\n",
    "\n",
    "        dim_t = self.temperature ** (\n",
    "            2 * self._torch_int_div(dim_t, 2) / (self.features // 4)\n",
    "        )\n",
    "\n",
    "        # (b, n_t, n_anchors, 4, D//4)\n",
    "        pos_emb = boxes[:, :, :, :, None] / dim_t.to(boxes.device)\n",
    "\n",
    "        pos_emb = torch.stack(\n",
    "            (pos_emb[:, :, :, :, 0::2].sin(), pos_emb[:, :, :, :, 1::2].cos()), dim=4\n",
    "        )\n",
    "        pos_emb = pos_emb.flatten(2).squeeze(0)  # (N_t, n_anchors * D)\n",
    "\n",
    "        pos_emb = self.mlp(pos_emb)\n",
    "\n",
    "        pos_emb = pos_emb.view(boxes.shape[1], self.features)\n",
    "\n",
    "        return pos_emb\n",
    "\n",
    "    def _sine_temp_embedding(self, times: torch.Tensor) -> torch.Tensor:\n",
    "        \"\"\"Compute fixed sine temporal embeddings.\n",
    "\n",
    "        Args:\n",
    "            times: the input times of shape (N,) or (N,1) where N = (sum(instances_per_frame))\n",
    "            which is the frame index of the instance relative\n",
    "            to the batch size\n",
    "            (e.g. `torch.tensor([0, 0, ..., 0, 1, 1, ..., 1, 2, 2, ..., 2,..., B, B, ...B])`).\n",
    "\n",
    "        Returns:\n",
    "            an n_instances x D embedding representing the temporal embedding.\n",
    "        \"\"\"\n",
    "        T = times.int().max().item() + 1\n",
    "        d = self.features\n",
    "        n = self.temperature\n",
    "\n",
    "        positions = torch.arange(0, T).unsqueeze(1)\n",
    "        temp_lookup = torch.zeros(T, d, device=times.device)\n",
    "\n",
    "        denominators = torch.pow(\n",
    "            n, 2 * torch.arange(0, d // 2) / d\n",
    "        )  # 10000^(2i/d_model), i is the index of embedding\n",
    "        temp_lookup[:, 0::2] = torch.sin(\n",
    "            positions / denominators\n",
    "        )  # sin(pos/10000^(2i/d_model))\n",
    "        temp_lookup[:, 1::2] = torch.cos(\n",
    "            positions / denominators\n",
    "        )  # cos(pos/10000^(2i/d_model))\n",
    "\n",
    "        temp_emb = temp_lookup[times.int()]\n",
    "        return temp_emb  # .view(len(times), self.features)"
   ]
  },
  {
   "cell_type": "code",
   "execution_count": 62,
   "id": "fc8aa9bf-7e83-4fa6-892e-8a7703777f95",
   "metadata": {
    "tags": []
   },
   "outputs": [],
   "source": [
    "# create Embedding object\n",
    "emb_t = Embedding(emb_type=\"temp\",mode=\"fixed\",features=1024,emb_num=16,n_points=1,temperature=10000)\n",
    "emb_p = Embedding(emb_type=\"pos\",mode=\"fixed\",features=1024,emb_num=16,n_points=1,temperature=10000)"
   ]
  },
  {
   "cell_type": "code",
   "execution_count": 39,
   "id": "4903f6c3-1cc8-412b-b988-ebeb2757c3b7",
   "metadata": {
    "tags": []
   },
   "outputs": [],
   "source": [
    "# get sample crops from training data to pass through the network\n",
    "train_path = \"/home/jovyan/talmolab-smb/datasets/mot/microscopy/airyscan_proofread/Final/dreem-train\"\n",
    "# train_path = \"/Users/mustafashaikh/dreem-data/dreem-train\"\n",
    "data = SleapDataset([os.path.join(train_path,\"10-1.slp\")], [os.path.join(train_path,\"10-1.mp4\")], crop_size=64,\n",
    "                   mode=\"train\", clip_length=32, anchors=\"centroid\")"
   ]
  },
  {
   "cell_type": "code",
   "execution_count": 40,
   "id": "27bfdb50-2eee-4207-8a16-6481a9905e90",
   "metadata": {
    "tags": []
   },
   "outputs": [],
   "source": [
    "# get a list of all instances; this is the format that the model pipeline uses as input data\n",
    "ref_instances = []\n",
    "for frame in data[0]:\n",
    "    for instance in frame.instances:\n",
    "        ref_instances.append(instance)"
   ]
  },
  {
   "cell_type": "code",
   "execution_count": 41,
   "id": "8ea441b2-b12a-4f10-8821-aef889a063ba",
   "metadata": {
    "tags": []
   },
   "outputs": [],
   "source": [
    "# get the vector of times using the list of crops+labels\n",
    "# query_instance is the instances in last frame (set to None)\n",
    "ref_times, query_times = get_times(ref_instances, None)"
   ]
  },
  {
   "cell_type": "code",
   "execution_count": 8,
   "id": "b863dbfe-d9fc-4ed1-bf97-3f304d3d03a6",
   "metadata": {
    "collapsed": true,
    "jupyter": {
     "outputs_hidden": true
    },
    "tags": []
   },
   "outputs": [
    {
     "data": {
      "text/plain": [
       "<matplotlib.image.AxesImage at 0x17ce352d0>"
      ]
     },
     "execution_count": 8,
     "metadata": {},
     "output_type": "execute_result"
    },
    {
     "data": {
      "image/png": "[encoded data removed]",
      "text/plain": [
       "<Figure size 640x480 with 1 Axes>"
      ]
     },
     "metadata": {},
     "output_type": "display_data"
    }
   ],
   "source": [
    "# call fixed temporal embedding with the vector of 'times'\n",
    "plt.imshow(emb(ref_times).numpy(), aspect='auto')"
   ]
  },
  {
   "cell_type": "code",
   "execution_count": 43,
   "id": "8b17fdb7",
   "metadata": {
    "tags": []
   },
   "outputs": [],
   "source": [
    "feat_dim = 1024\n",
    "xfmr_encoder = TransformerEncoderLayer(d_model=feat_dim, nhead=8)\n",
    "visual_encoder = VisualEncoder(d_model=feat_dim, model_name=\"resnet18\")"
   ]
  },
  {
   "cell_type": "code",
   "execution_count": 44,
   "id": "7999fcef-953b-42cf-927c-f3b617f68157",
   "metadata": {
    "tags": []
   },
   "outputs": [],
   "source": [
    "def extract_features(\n",
    "        instances: list[\"Instance\"], \n",
    "        visual_encoder: \"dreem.models.VisualEncoder\",\n",
    "        force_recompute: bool = False\n",
    "    ) -> None:\n",
    "        \"\"\"Extract features from instances using visual encoder backbone.\n",
    "\n",
    "        Args:\n",
    "            instances: A list of instances to compute features for\n",
    "            VisualEncoder : pass an instance of a visual encoder\n",
    "            force_recompute: indicate whether to compute features for all instances regardless of if they have instances\n",
    "        \"\"\"\n",
    "        if not force_recompute:\n",
    "            instances_to_compute = [\n",
    "                instance\n",
    "                for instance in instances\n",
    "                if instance.has_crop() and not instance.has_features()\n",
    "            ]\n",
    "        else:\n",
    "            instances_to_compute = instances\n",
    "\n",
    "        if len(instances_to_compute) == 0:\n",
    "            return\n",
    "        elif len(instances_to_compute) == 1:  # handle batch norm error when B=1\n",
    "            instances_to_compute = instances\n",
    "\n",
    "        crops = torch.concatenate([instance.crop for instance in instances_to_compute])\n",
    "\n",
    "        features = visual_encoder(crops)\n",
    "\n",
    "        for i, z_i in enumerate(features):\n",
    "            instances_to_compute[i].features = z_i"
   ]
  },
  {
   "cell_type": "code",
   "execution_count": 92,
   "id": "e299e8a0-61eb-4eee-901c-49aa7e678b3b",
   "metadata": {
    "tags": []
   },
   "outputs": [],
   "source": [
    "# partial forward pass of the transformer - up until the encoder\n",
    "\n",
    "def prepare_for_xfmr(ref_instances):\n",
    "    # extract visual encoder features from instance object; shape=(1,n_instances,d=1024)\n",
    "    ref_features = torch.cat(\n",
    "                [instance.features for instance in ref_instances], dim=0\n",
    "            ).unsqueeze(0)\n",
    "\n",
    "    # window_length = len(frames)\n",
    "    # instances_per_frame = [frame.num_detected for frame in frames]\n",
    "    total_instances = len(ref_instances)\n",
    "    embed_dim = ref_features.shape[-1]\n",
    "    # print(f'T: {window_length}; N: {total_instances}; N_t: {instances_per_frame} n_reid: {reid_features.shape}')\n",
    "    ref_boxes = get_boxes(ref_instances)  # (n_instances,1,4)\n",
    "    ref_boxes = torch.nan_to_num(ref_boxes, -1.0)\n",
    "    ref_times, query_times = get_times(ref_instances, query_instances=None)\n",
    "\n",
    "    # clip length \n",
    "    window_length = len(ref_times.unique())\n",
    "\n",
    "    # computes the temporal embedding vector for each instance\n",
    "    ref_temp_emb = emb_t(ref_times)\n",
    "    # computes the positional embedding vector for each instance\n",
    "    ref_pos_emb = emb_p(ref_boxes)\n",
    "\n",
    "    return_embedding=False\n",
    "    if return_embedding:\n",
    "        for i, instance in enumerate(ref_instances):\n",
    "            instance.add_embedding(\"pos\", ref_pos_emb[i])\n",
    "            instance.add_embedding(\"temp\", ref_temp_emb[i])\n",
    "\n",
    "    # we need a single vector so average the temporal and spatial embeddings\n",
    "    ref_emb = (ref_pos_emb + ref_temp_emb) / 2.0\n",
    "\n",
    "    # add a new dim at the beginning to represent the batch size (in our case 1)\n",
    "    ref_emb = ref_emb.view(1, total_instances, embed_dim)\n",
    "\n",
    "    ref_emb = ref_emb.permute(1, 0, 2)  # (total_instances, batch_size, embed_dim)\n",
    "\n",
    "    batch_size, total_instances, embed_dim = ref_features.shape\n",
    "\n",
    "    ref_features = ref_features.permute(\n",
    "        1, 0, 2\n",
    "    )  # (total_instances, batch_size, embed_dim); note batch_size = 1\n",
    "\n",
    "    return ref_features"
   ]
  },
  {
   "cell_type": "code",
   "execution_count": 45,
   "id": "75ec8cab-25b9-4e9e-a64a-b5dbe00cc81a",
   "metadata": {
    "tags": []
   },
   "outputs": [],
   "source": [
    "# pass instances through visual encoder to get the feature vector (q,k,v)\n",
    "extract_features(ref_instances, visual_encoder)"
   ]
  },
  {
   "cell_type": "code",
   "execution_count": 123,
   "id": "f0823cf1-2a35-4920-a62e-896bd9dbb078",
   "metadata": {
    "tags": []
   },
   "outputs": [
    {
     "data": {
      "text/plain": [
       "torch.Size([1, 491, 1, 1024])"
      ]
     },
     "execution_count": 123,
     "metadata": {},
     "output_type": "execute_result"
    }
   ],
   "source": [
    "# prepare data and apply rope\n",
    "rope = tune.RotaryPositionalEmbeddings(feat_dim)\n",
    "\n",
    "ref_features = torch.cat(\n",
    "                [instance.features for instance in ref_instances], dim=0\n",
    "            ).unsqueeze(0)\n",
    "\n",
    "# input must be of shape (num_batches, num_instances, num_attn_heads, d_model)\n",
    "# use num_heads=1 to use torch ROPE; we pass this into torch multiheadattn later which doesn't \n",
    "# use num_heads in the input data\n",
    "ref_features = torch.unsqueeze(ref_features, 2)\n",
    "rope_ref_feat = rope(ref_features)\n"
   ]
  },
  {
   "cell_type": "code",
   "execution_count": 93,
   "id": "48894fba-2ffc-4f5a-aceb-26b711b7b51f",
   "metadata": {
    "tags": []
   },
   "outputs": [],
   "source": [
    "encoder_queries = prepare_for_xfmr(ref_instances)\n",
    "encoder_features = xfmr_encoder(\n",
    "    encoder_queries, pos_emb=ref_emb\n",
    ")  # (total_instances, batch_size, embed_dim)"
   ]
  },
  {
   "cell_type": "markdown",
   "id": "a972707a-51a7-45ff-987e-80ee0dea4752",
   "metadata": {},
   "source": [
    "### Rotary Positional Embeddings"
   ]
  }
 ],
 "metadata": {
  "kernelspec": {
   "display_name": "dreem",
   "language": "python",
   "name": "dreem"
  },
  "language_info": {
   "codemirror_mode": {
    "name": "ipython",
    "version": 3
   },
   "file_extension": ".py",
   "mimetype": "text/x-python",
   "name": "python",
   "nbconvert_exporter": "python",
   "pygments_lexer": "ipython3",
   "version": "3.11.9"
  }
 },
 "nbformat": 4,
 "nbformat_minor": 5
}
